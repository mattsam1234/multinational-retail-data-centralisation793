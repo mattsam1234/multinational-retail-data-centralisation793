{
 "cells": [
  {
   "cell_type": "code",
   "execution_count": 7,
   "metadata": {},
   "outputs": [
    {
     "name": "stdout",
     "output_type": "stream",
     "text": [
      "<class 'pandas.core.frame.DataFrame'>\n",
      "Index: 1853 entries, 0 to 1852\n",
      "Data columns (total 9 columns):\n",
      " #   Column         Non-Null Count  Dtype \n",
      "---  ------         --------------  ----- \n",
      " 0   product_name   1849 non-null   object\n",
      " 1   product_price  1849 non-null   object\n",
      " 2   weight         1849 non-null   object\n",
      " 3   category       1849 non-null   object\n",
      " 4   EAN            1849 non-null   object\n",
      " 5   date_added     1849 non-null   object\n",
      " 6   uuid           1849 non-null   object\n",
      " 7   removed        1849 non-null   object\n",
      " 8   product_code   1849 non-null   object\n",
      "dtypes: object(9)\n",
      "memory usage: 144.8+ KB\n"
     ]
    }
   ],
   "source": [
    "from data_cleaning import DataCleaning\n",
    "from data_extraction import DataExtractor\n",
    "from database_utils import DatabaseConnector\n",
    "import pandas as pd\n",
    "import numpy as np\n",
    "\n",
    "df = pd.read_csv('product_data.csv', index_col= [0])\n",
    "df.info()"
   ]
  },
  {
   "cell_type": "code",
   "execution_count": 8,
   "metadata": {},
   "outputs": [
    {
     "name": "stderr",
     "output_type": "stream",
     "text": [
      "C:\\Users\\matts\\AppData\\Local\\Temp\\ipykernel_19896\\3595168056.py:4: UserWarning: The argument 'infer_datetime_format' is deprecated and will be removed in a future version. A strict version of it is now the default, see https://pandas.pydata.org/pdeps/0004-consistent-to-datetime-parsing.html. You can safely remove this argument.\n",
      "  df['date_added'] = pd.to_datetime(df['date_added'], infer_datetime_format=True, errors='coerce')\n"
     ]
    }
   ],
   "source": [
    "#correct data types\n",
    "df['product_name'] = df['product_name'].astype('string')\n",
    "df['category'] = df['category'].astype('string')\n",
    "df['date_added'] = pd.to_datetime(df['date_added'], infer_datetime_format=True, errors='coerce')\n",
    "df['EAN'] = df['EAN'].astype('string')\n",
    "df['uuid'] = df['uuid'].astype('string')\n",
    "df['removed'] = df['removed'].astype('string')\n",
    "df['product_code'] = df['product_code'].astype('string')\n"
   ]
  },
  {
   "cell_type": "code",
   "execution_count": 9,
   "metadata": {},
   "outputs": [],
   "source": [
    "#sort weights\n",
    "df['weight'] = df['weight'].astype('string')\n",
    "df.dropna(inplace=True, how='all')\n"
   ]
  },
  {
   "cell_type": "code",
   "execution_count": 10,
   "metadata": {},
   "outputs": [],
   "source": [
    "def split_weight_units(x):\n",
    "    try:\n",
    "        if pd.isna(x):  # Handle missing values directly\n",
    "            return np.nan, np.nan\n",
    "\n",
    "        if x[-2:] in ('kg', 'ml', 'oz'):\n",
    "            unit = x[:-2]\n",
    "            weight = x[-2:]\n",
    "        elif x[-2:] == ' .':\n",
    "            unit = x[:-4]\n",
    "            weight = x[-4:-2]\n",
    "        elif x[-1:] == 'g':\n",
    "            unit = x[:-1]\n",
    "            weight = x[-1:]\n",
    "        else:  # If no valid unit found, return np.nan for both\n",
    "            return np.nan, np.nan\n",
    "\n",
    "        return unit, weight\n",
    "    except TypeError:\n",
    "        return np.nan, np.nan"
   ]
  },
  {
   "cell_type": "code",
   "execution_count": 11,
   "metadata": {},
   "outputs": [
    {
     "data": {
      "text/plain": [
       "unit\n",
       "kg    954\n",
       "g     881\n",
       "ml      9\n",
       "7g      1\n",
       "oz      1\n",
       "Name: count, dtype: int64"
      ]
     },
     "execution_count": 11,
     "metadata": {},
     "output_type": "execute_result"
    }
   ],
   "source": [
    "df['weights_tuple'] = df['weight'].apply(split_weight_units)\n",
    "df['weights'] = df['weights_tuple'].str[0]\n",
    "df['unit'] = df['weights_tuple'].str[1]\n",
    "df['unit'].value_counts()"
   ]
  },
  {
   "cell_type": "code",
   "execution_count": 12,
   "metadata": {},
   "outputs": [],
   "source": [
    "df.loc[df['weights'].str.match(r'\\d+ x \\d+' , na=False), 'weights'] = (df.loc[df['weights'].str.match(r'\\d+ x \\d+', na=False), 'weights'].str.extract(r'(\\d+) x (\\d+)').astype(int).prod(axis=1)) / 100"
   ]
  },
  {
   "cell_type": "code",
   "execution_count": 13,
   "metadata": {},
   "outputs": [],
   "source": [
    "df['weights'] = df['weights'].astype('float')\n",
    "df.loc[df['unit'] == 'g', 'weights'] /= 1000\n",
    "df.loc[df['unit'] == 'ml', 'weights'] /= 1000\n",
    "df.loc[df['unit'] == 'oz', 'weights'] /= 35.274"
   ]
  },
  {
   "cell_type": "code",
   "execution_count": 14,
   "metadata": {},
   "outputs": [
    {
     "data": {
      "text/html": [
       "<div>\n",
       "<style scoped>\n",
       "    .dataframe tbody tr th:only-of-type {\n",
       "        vertical-align: middle;\n",
       "    }\n",
       "\n",
       "    .dataframe tbody tr th {\n",
       "        vertical-align: top;\n",
       "    }\n",
       "\n",
       "    .dataframe thead th {\n",
       "        text-align: right;\n",
       "    }\n",
       "</style>\n",
       "<table border=\"1\" class=\"dataframe\">\n",
       "  <thead>\n",
       "    <tr style=\"text-align: right;\">\n",
       "      <th></th>\n",
       "      <th>product_name</th>\n",
       "      <th>product_price</th>\n",
       "      <th>weight</th>\n",
       "      <th>category</th>\n",
       "      <th>EAN</th>\n",
       "      <th>date_added</th>\n",
       "      <th>uuid</th>\n",
       "      <th>removed</th>\n",
       "      <th>product_code</th>\n",
       "    </tr>\n",
       "  </thead>\n",
       "  <tbody>\n",
       "    <tr>\n",
       "      <th>0</th>\n",
       "      <td>FurReal Dazzlin' Dimples My Playful Dolphin</td>\n",
       "      <td>£39.99</td>\n",
       "      <td>1.60</td>\n",
       "      <td>toys-and-games</td>\n",
       "      <td>7425710935115</td>\n",
       "      <td>2005-12-02</td>\n",
       "      <td>83dc0a69-f96f-4c34-bcb7-928acae19a94</td>\n",
       "      <td>Still_avaliable</td>\n",
       "      <td>R7-3126933h</td>\n",
       "    </tr>\n",
       "    <tr>\n",
       "      <th>1</th>\n",
       "      <td>Tiffany's World Day Out At The Park</td>\n",
       "      <td>£12.99</td>\n",
       "      <td>0.48</td>\n",
       "      <td>toys-and-games</td>\n",
       "      <td>487128731892</td>\n",
       "      <td>2006-01-09</td>\n",
       "      <td>712254d7-aea7-4310-aff8-8bcdd0aec7ff</td>\n",
       "      <td>Still_avaliable</td>\n",
       "      <td>C2-7287916l</td>\n",
       "    </tr>\n",
       "    <tr>\n",
       "      <th>2</th>\n",
       "      <td>Tiffany's World Pups Picnic Playset</td>\n",
       "      <td>£7.00</td>\n",
       "      <td>0.59</td>\n",
       "      <td>toys-and-games</td>\n",
       "      <td>1945816904649</td>\n",
       "      <td>1997-03-29</td>\n",
       "      <td>b089ef6f-b628-4e37-811d-fffe0102ba64</td>\n",
       "      <td>Still_avaliable</td>\n",
       "      <td>S7-1175877v</td>\n",
       "    </tr>\n",
       "    <tr>\n",
       "      <th>3</th>\n",
       "      <td>Tiffany's World Wildlife Park Adventures</td>\n",
       "      <td>£12.99</td>\n",
       "      <td>0.54</td>\n",
       "      <td>toys-and-games</td>\n",
       "      <td>1569790890899</td>\n",
       "      <td>2013-03-20</td>\n",
       "      <td>d55de422-8b98-47d6-9991-e4bc4c5c0cb0</td>\n",
       "      <td>Removed</td>\n",
       "      <td>D8-8421505n</td>\n",
       "    </tr>\n",
       "    <tr>\n",
       "      <th>4</th>\n",
       "      <td>Cosatto Cosy Dolls Pram</td>\n",
       "      <td>£30.00</td>\n",
       "      <td>1.91</td>\n",
       "      <td>toys-and-games</td>\n",
       "      <td>7142740213920</td>\n",
       "      <td>2007-12-23</td>\n",
       "      <td>7945b657-cb02-4cc5-96cf-f65ed0a8f235</td>\n",
       "      <td>Still_avaliable</td>\n",
       "      <td>B6-2596063a</td>\n",
       "    </tr>\n",
       "  </tbody>\n",
       "</table>\n",
       "</div>"
      ],
      "text/plain": [
       "                                  product_name product_price  weight  \\\n",
       "0  FurReal Dazzlin' Dimples My Playful Dolphin        £39.99    1.60   \n",
       "1          Tiffany's World Day Out At The Park        £12.99    0.48   \n",
       "2          Tiffany's World Pups Picnic Playset         £7.00    0.59   \n",
       "3     Tiffany's World Wildlife Park Adventures        £12.99    0.54   \n",
       "4                      Cosatto Cosy Dolls Pram        £30.00    1.91   \n",
       "\n",
       "         category            EAN date_added  \\\n",
       "0  toys-and-games  7425710935115 2005-12-02   \n",
       "1  toys-and-games   487128731892 2006-01-09   \n",
       "2  toys-and-games  1945816904649 1997-03-29   \n",
       "3  toys-and-games  1569790890899 2013-03-20   \n",
       "4  toys-and-games  7142740213920 2007-12-23   \n",
       "\n",
       "                                   uuid          removed product_code  \n",
       "0  83dc0a69-f96f-4c34-bcb7-928acae19a94  Still_avaliable  R7-3126933h  \n",
       "1  712254d7-aea7-4310-aff8-8bcdd0aec7ff  Still_avaliable  C2-7287916l  \n",
       "2  b089ef6f-b628-4e37-811d-fffe0102ba64  Still_avaliable  S7-1175877v  \n",
       "3  d55de422-8b98-47d6-9991-e4bc4c5c0cb0          Removed  D8-8421505n  \n",
       "4  7945b657-cb02-4cc5-96cf-f65ed0a8f235  Still_avaliable  B6-2596063a  "
      ]
     },
     "execution_count": 14,
     "metadata": {},
     "output_type": "execute_result"
    }
   ],
   "source": [
    "df['weight'] = df['weights']\n",
    "df.drop(columns=['weights', 'unit', 'weights_tuple'], inplace=True)\n",
    "df.head()"
   ]
  },
  {
   "cell_type": "code",
   "execution_count": 15,
   "metadata": {},
   "outputs": [
    {
     "name": "stdout",
     "output_type": "stream",
     "text": [
      "<class 'pandas.core.frame.DataFrame'>\n",
      "Index: 1849 entries, 0 to 1852\n",
      "Data columns (total 9 columns):\n",
      " #   Column         Non-Null Count  Dtype         \n",
      "---  ------         --------------  -----         \n",
      " 0   product_name   1849 non-null   string        \n",
      " 1   product_price  1849 non-null   object        \n",
      " 2   weight         1846 non-null   float64       \n",
      " 3   category       1849 non-null   string        \n",
      " 4   EAN            1849 non-null   string        \n",
      " 5   date_added     1844 non-null   datetime64[ns]\n",
      " 6   uuid           1849 non-null   string        \n",
      " 7   removed        1849 non-null   string        \n",
      " 8   product_code   1849 non-null   string        \n",
      "dtypes: datetime64[ns](1), float64(1), object(1), string(6)\n",
      "memory usage: 144.5+ KB\n"
     ]
    }
   ],
   "source": [
    "df.info()"
   ]
  },
  {
   "cell_type": "code",
   "execution_count": 16,
   "metadata": {},
   "outputs": [
    {
     "data": {
      "text/html": [
       "<div>\n",
       "<style scoped>\n",
       "    .dataframe tbody tr th:only-of-type {\n",
       "        vertical-align: middle;\n",
       "    }\n",
       "\n",
       "    .dataframe tbody tr th {\n",
       "        vertical-align: top;\n",
       "    }\n",
       "\n",
       "    .dataframe thead th {\n",
       "        text-align: right;\n",
       "    }\n",
       "</style>\n",
       "<table border=\"1\" class=\"dataframe\">\n",
       "  <thead>\n",
       "    <tr style=\"text-align: right;\">\n",
       "      <th></th>\n",
       "      <th>product_name</th>\n",
       "      <th>product_price</th>\n",
       "      <th>weight</th>\n",
       "      <th>category</th>\n",
       "      <th>EAN</th>\n",
       "      <th>date_added</th>\n",
       "      <th>uuid</th>\n",
       "      <th>removed</th>\n",
       "      <th>product_code</th>\n",
       "      <th>length_of_ean</th>\n",
       "    </tr>\n",
       "  </thead>\n",
       "  <tbody>\n",
       "    <tr>\n",
       "      <th>0</th>\n",
       "      <td>FurReal Dazzlin' Dimples My Playful Dolphin</td>\n",
       "      <td>£39.99</td>\n",
       "      <td>1.60</td>\n",
       "      <td>toys-and-games</td>\n",
       "      <td>7425710935115</td>\n",
       "      <td>2005-12-02</td>\n",
       "      <td>83dc0a69-f96f-4c34-bcb7-928acae19a94</td>\n",
       "      <td>Still_avaliable</td>\n",
       "      <td>R7-3126933h</td>\n",
       "      <td>13</td>\n",
       "    </tr>\n",
       "    <tr>\n",
       "      <th>1</th>\n",
       "      <td>Tiffany's World Day Out At The Park</td>\n",
       "      <td>£12.99</td>\n",
       "      <td>0.48</td>\n",
       "      <td>toys-and-games</td>\n",
       "      <td>487128731892</td>\n",
       "      <td>2006-01-09</td>\n",
       "      <td>712254d7-aea7-4310-aff8-8bcdd0aec7ff</td>\n",
       "      <td>Still_avaliable</td>\n",
       "      <td>C2-7287916l</td>\n",
       "      <td>12</td>\n",
       "    </tr>\n",
       "    <tr>\n",
       "      <th>2</th>\n",
       "      <td>Tiffany's World Pups Picnic Playset</td>\n",
       "      <td>£7.00</td>\n",
       "      <td>0.59</td>\n",
       "      <td>toys-and-games</td>\n",
       "      <td>1945816904649</td>\n",
       "      <td>1997-03-29</td>\n",
       "      <td>b089ef6f-b628-4e37-811d-fffe0102ba64</td>\n",
       "      <td>Still_avaliable</td>\n",
       "      <td>S7-1175877v</td>\n",
       "      <td>13</td>\n",
       "    </tr>\n",
       "    <tr>\n",
       "      <th>3</th>\n",
       "      <td>Tiffany's World Wildlife Park Adventures</td>\n",
       "      <td>£12.99</td>\n",
       "      <td>0.54</td>\n",
       "      <td>toys-and-games</td>\n",
       "      <td>1569790890899</td>\n",
       "      <td>2013-03-20</td>\n",
       "      <td>d55de422-8b98-47d6-9991-e4bc4c5c0cb0</td>\n",
       "      <td>Removed</td>\n",
       "      <td>D8-8421505n</td>\n",
       "      <td>13</td>\n",
       "    </tr>\n",
       "    <tr>\n",
       "      <th>4</th>\n",
       "      <td>Cosatto Cosy Dolls Pram</td>\n",
       "      <td>£30.00</td>\n",
       "      <td>1.91</td>\n",
       "      <td>toys-and-games</td>\n",
       "      <td>7142740213920</td>\n",
       "      <td>2007-12-23</td>\n",
       "      <td>7945b657-cb02-4cc5-96cf-f65ed0a8f235</td>\n",
       "      <td>Still_avaliable</td>\n",
       "      <td>B6-2596063a</td>\n",
       "      <td>13</td>\n",
       "    </tr>\n",
       "  </tbody>\n",
       "</table>\n",
       "</div>"
      ],
      "text/plain": [
       "                                  product_name product_price  weight  \\\n",
       "0  FurReal Dazzlin' Dimples My Playful Dolphin        £39.99    1.60   \n",
       "1          Tiffany's World Day Out At The Park        £12.99    0.48   \n",
       "2          Tiffany's World Pups Picnic Playset         £7.00    0.59   \n",
       "3     Tiffany's World Wildlife Park Adventures        £12.99    0.54   \n",
       "4                      Cosatto Cosy Dolls Pram        £30.00    1.91   \n",
       "\n",
       "         category            EAN date_added  \\\n",
       "0  toys-and-games  7425710935115 2005-12-02   \n",
       "1  toys-and-games   487128731892 2006-01-09   \n",
       "2  toys-and-games  1945816904649 1997-03-29   \n",
       "3  toys-and-games  1569790890899 2013-03-20   \n",
       "4  toys-and-games  7142740213920 2007-12-23   \n",
       "\n",
       "                                   uuid          removed product_code  \\\n",
       "0  83dc0a69-f96f-4c34-bcb7-928acae19a94  Still_avaliable  R7-3126933h   \n",
       "1  712254d7-aea7-4310-aff8-8bcdd0aec7ff  Still_avaliable  C2-7287916l   \n",
       "2  b089ef6f-b628-4e37-811d-fffe0102ba64  Still_avaliable  S7-1175877v   \n",
       "3  d55de422-8b98-47d6-9991-e4bc4c5c0cb0          Removed  D8-8421505n   \n",
       "4  7945b657-cb02-4cc5-96cf-f65ed0a8f235  Still_avaliable  B6-2596063a   \n",
       "\n",
       "   length_of_ean  \n",
       "0             13  \n",
       "1             12  \n",
       "2             13  \n",
       "3             13  \n",
       "4             13  "
      ]
     },
     "execution_count": 16,
     "metadata": {},
     "output_type": "execute_result"
    }
   ],
   "source": [
    "df['length_of_ean'] = df['EAN'].str.len()\n",
    "mask = df['EAN'].str.len() > 13\n",
    "df = df[~mask]\n",
    "df.head()"
   ]
  }
 ],
 "metadata": {
  "kernelspec": {
   "display_name": "mrdc",
   "language": "python",
   "name": "python3"
  },
  "language_info": {
   "codemirror_mode": {
    "name": "ipython",
    "version": 3
   },
   "file_extension": ".py",
   "mimetype": "text/x-python",
   "name": "python",
   "nbconvert_exporter": "python",
   "pygments_lexer": "ipython3",
   "version": "3.12.0"
  }
 },
 "nbformat": 4,
 "nbformat_minor": 2
}
